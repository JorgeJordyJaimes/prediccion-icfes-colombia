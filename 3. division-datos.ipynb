{
 "cells": [
  {
   "cell_type": "markdown",
   "id": "f6afbac5",
   "metadata": {},
   "source": [
    "# 4. DIVISIÓN DE DATOS"
   ]
  },
  {
   "cell_type": "markdown",
   "id": "861adb48",
   "metadata": {},
   "source": [
    "## \n",
    "\n",
    "1. **División representativa**: 70/30 u 80/20, manteniendo la distribución de la variable objetivo.  \n",
    "2. **Verificación de distribución**: Confirmar que las estadísticas descriptivas (media, desviación, percentiles, rangos) sean similares en train y test.  \n",
    "3. **Consideraciones temporales**: Si los datos tienen componente temporal, dividir cronológicamente (no aleatoriamente) manteniendo la distribución.  \n",
    "4. **Manejo de valores extremos**: Asegurar que los outliers estén representados en ambos conjuntos.\n",
    "5. **Validación de representatividad de variables predictoras**: Confirmar que las variables categóricas que se intuyen más importantes, estén representadas equitativamente\n",
    "6. **Documentación de la división**: Guardar índices y semillas para garantizar reproducibilidad."
   ]
  },
  {
   "cell_type": "markdown",
   "id": "21ac85e3",
   "metadata": {},
   "source": [
    "## 0. CARGA DE DATOS"
   ]
  },
  {
   "cell_type": "code",
   "execution_count": 1,
   "id": "6e2571e2",
   "metadata": {},
   "outputs": [],
   "source": [
    "import pandas as pd\n",
    "import numpy as np\n",
    "import matplotlib.pyplot as plt\n",
    "import seaborn as sns\n",
    "import warnings\n",
    "\n",
    "warnings.filterwarnings(\"ignore\")\n",
    "pd.set_option(\"display.max_columns\", 500)\n",
    "pd.set_option('display.float_format', '{:.2f}'.format)"
   ]
  },
  {
   "cell_type": "code",
   "execution_count": 2,
   "id": "74c1bbc0",
   "metadata": {},
   "outputs": [
    {
     "data": {
      "application/vnd.microsoft.datawrangler.viewer.v0+json": {
       "columns": [
        {
         "name": "index",
         "rawType": "int64",
         "type": "integer"
        },
        {
         "name": "nacionalidad",
         "rawType": "object",
         "type": "string"
        },
        {
         "name": "region",
         "rawType": "object",
         "type": "string"
        },
        {
         "name": "etnia_estudiante",
         "rawType": "object",
         "type": "string"
        },
        {
         "name": "edad",
         "rawType": "Int64",
         "type": "integer"
        },
        {
         "name": "presento_fuera_edad",
         "rawType": "int64",
         "type": "integer"
        },
        {
         "name": "num_personas_casa",
         "rawType": "object",
         "type": "string"
        },
        {
         "name": "num_cuartos_casa",
         "rawType": "float64",
         "type": "float"
        },
        {
         "name": "estrato_casa",
         "rawType": "float64",
         "type": "float"
        },
        {
         "name": "tiempo_internet",
         "rawType": "object",
         "type": "string"
        },
        {
         "name": "internet",
         "rawType": "int64",
         "type": "integer"
        },
        {
         "name": "tv",
         "rawType": "int64",
         "type": "integer"
        },
        {
         "name": "computador",
         "rawType": "int64",
         "type": "integer"
        },
        {
         "name": "lavadora",
         "rawType": "int64",
         "type": "integer"
        },
        {
         "name": "microndas",
         "rawType": "int64",
         "type": "integer"
        },
        {
         "name": "carro",
         "rawType": "int64",
         "type": "integer"
        },
        {
         "name": "moto",
         "rawType": "int64",
         "type": "integer"
        },
        {
         "name": "consola",
         "rawType": "int64",
         "type": "integer"
        },
        {
         "name": "num_libros",
         "rawType": "object",
         "type": "unknown"
        },
        {
         "name": "tiempo_lectura",
         "rawType": "object",
         "type": "string"
        },
        {
         "name": "freq_leche_derivados",
         "rawType": "object",
         "type": "string"
        },
        {
         "name": "freq_carne_pescado_similares",
         "rawType": "object",
         "type": "string"
        },
        {
         "name": "freq_cereales_frutos_legumbres",
         "rawType": "object",
         "type": "string"
        },
        {
         "name": "nivel_edu_padre",
         "rawType": "object",
         "type": "string"
        },
        {
         "name": "actividad_padre",
         "rawType": "object",
         "type": "string"
        },
        {
         "name": "nivel_edu_madre",
         "rawType": "object",
         "type": "string"
        },
        {
         "name": "actividad_madre",
         "rawType": "object",
         "type": "string"
        },
        {
         "name": "horas_trabajo_semanal",
         "rawType": "object",
         "type": "string"
        },
        {
         "name": "colegio_genero",
         "rawType": "object",
         "type": "string"
        },
        {
         "name": "colegio_publico",
         "rawType": "object",
         "type": "string"
        },
        {
         "name": "colegio_area",
         "rawType": "object",
         "type": "string"
        },
        {
         "name": "colegio_jornada",
         "rawType": "object",
         "type": "string"
        },
        {
         "name": "puntaje_global",
         "rawType": "int64",
         "type": "integer"
        },
        {
         "name": "nse_estudiante",
         "rawType": "float64",
         "type": "float"
        },
        {
         "name": "nse_colegio",
         "rawType": "float64",
         "type": "float"
        },
        {
         "name": "educacion_padres",
         "rawType": "object",
         "type": "string"
        },
        {
         "name": "perfil_lector",
         "rawType": "object",
         "type": "string"
        },
        {
         "name": "actividad_padres",
         "rawType": "object",
         "type": "string"
        }
       ],
       "ref": "5736a1b5-d4c4-41c7-8001-0152aab53432",
       "rows": [
        [
         "250324",
         "Colombia",
         "Pacífica",
         "No",
         "18",
         "0",
         "Hogar tradicional",
         "3.0",
         "1.0",
         "Poco",
         "0",
         "1",
         "0",
         "1",
         "1",
         "0",
         "0",
         "0",
         null,
         "No lee",
         "Insuficiente",
         "Óptimo",
         "Aceptable",
         "Bachiller",
         "Sin Actividad Remunerada",
         "Bachiller",
         "Trabajadores Operativos",
         "Trabajo Ocasional",
         "Mixto",
         "No Oficial",
         "Urbano",
         "Tradicional",
         "195",
         "2.0",
         "2.0",
         "Bachillerato Completo",
         "Buen Apoyo, Poco Habito",
         "Trabajadores Operativos"
        ],
        [
         "299472",
         "Colombia",
         "Pacífica",
         "No",
         "18",
         "0",
         "Más de 1 hogar",
         "4.0",
         null,
         "Poco",
         "1",
         "1",
         "1",
         "1",
         "1",
         "0",
         "1",
         "1",
         "11-25",
         "0-30 min",
         "Aceptable",
         "Insuficiente",
         "Insuficiente",
         "Primaria",
         "Trabajadores Operativos",
         "Primaria Inc",
         "Trabajadores Operativos",
         "Tiempo Parcial Reducido",
         "Mixto",
         "Oficial",
         "Urbano",
         "Tradicional",
         "173",
         "2.0",
         "2.0",
         "Educación Primaria",
         "Poco Apoyo, Poco Habito",
         "Trabajadores Operativos"
        ],
        [
         "134840",
         "Colombia",
         "Caribe",
         "No",
         "16",
         "0",
         "Más de 1 hogar",
         "6.0",
         "5.0",
         "Promedio",
         "1",
         "1",
         "1",
         "1",
         "0",
         "0",
         "0",
         "1",
         "26-100",
         "0-30 min",
         "Óptimo",
         "Óptimo",
         "Insuficiente",
         "Profesional",
         "Profesionales",
         "Postgrado",
         "Trabajadores Operativos",
         "Tiempo Parcial Reducido",
         "Mixto",
         "No Oficial",
         "Urbano",
         "Tradicional",
         "275",
         "3.0",
         "4.0",
         "Educación Superior",
         "Buen Apoyo, Poco Habito",
         "Profesionales/Directivos"
        ],
        [
         "452616",
         "Colombia",
         "Andina",
         "No",
         "18",
         "0",
         "Hogar grande",
         "5.0",
         "3.0",
         "Promedio",
         "1",
         "1",
         "1",
         "1",
         "1",
         "0",
         "1",
         "1",
         "0-10",
         "30-60 min",
         "Óptimo",
         "Óptimo",
         "Aceptable",
         "Bachiller",
         "Trabajadores Operativos",
         "Bachiller",
         "Trabajadores Operativos",
         "No Trabaja",
         "Mixto",
         "Oficial",
         "Urbano",
         "Tradicional",
         "222",
         "3.0",
         "3.0",
         "Bachillerato Completo",
         "Poco Apoyo, Buen Habito",
         "Trabajadores Operativos"
        ],
        [
         "182238",
         "Colombia",
         "Andina",
         "No",
         "16",
         "0",
         "Hogar tradicional",
         "4.0",
         "3.0",
         "Mucho",
         "0",
         "1",
         "0",
         "1",
         "1",
         "1",
         "1",
         "0",
         "0-10",
         "0-30 min",
         "Óptimo",
         "Óptimo",
         "Óptimo",
         "Bachiller",
         "Sin Actividad Remunerada",
         "Bachiller",
         "Trabajador Independiente",
         "No Trabaja",
         "Mixto",
         "Oficial",
         "Urbano",
         "Unica",
         "209",
         "3.0",
         "2.0",
         "Bachillerato Completo",
         "Poco Apoyo, Poco Habito",
         "Empresarios/Independientes"
        ]
       ],
       "shape": {
        "columns": 37,
        "rows": 5
       }
      },
      "text/html": [
       "<div>\n",
       "<style scoped>\n",
       "    .dataframe tbody tr th:only-of-type {\n",
       "        vertical-align: middle;\n",
       "    }\n",
       "\n",
       "    .dataframe tbody tr th {\n",
       "        vertical-align: top;\n",
       "    }\n",
       "\n",
       "    .dataframe thead th {\n",
       "        text-align: right;\n",
       "    }\n",
       "</style>\n",
       "<table border=\"1\" class=\"dataframe\">\n",
       "  <thead>\n",
       "    <tr style=\"text-align: right;\">\n",
       "      <th></th>\n",
       "      <th>nacionalidad</th>\n",
       "      <th>region</th>\n",
       "      <th>etnia_estudiante</th>\n",
       "      <th>edad</th>\n",
       "      <th>presento_fuera_edad</th>\n",
       "      <th>num_personas_casa</th>\n",
       "      <th>num_cuartos_casa</th>\n",
       "      <th>estrato_casa</th>\n",
       "      <th>tiempo_internet</th>\n",
       "      <th>internet</th>\n",
       "      <th>tv</th>\n",
       "      <th>computador</th>\n",
       "      <th>lavadora</th>\n",
       "      <th>microndas</th>\n",
       "      <th>carro</th>\n",
       "      <th>moto</th>\n",
       "      <th>consola</th>\n",
       "      <th>num_libros</th>\n",
       "      <th>tiempo_lectura</th>\n",
       "      <th>freq_leche_derivados</th>\n",
       "      <th>freq_carne_pescado_similares</th>\n",
       "      <th>freq_cereales_frutos_legumbres</th>\n",
       "      <th>nivel_edu_padre</th>\n",
       "      <th>actividad_padre</th>\n",
       "      <th>nivel_edu_madre</th>\n",
       "      <th>actividad_madre</th>\n",
       "      <th>horas_trabajo_semanal</th>\n",
       "      <th>colegio_genero</th>\n",
       "      <th>colegio_publico</th>\n",
       "      <th>colegio_area</th>\n",
       "      <th>colegio_jornada</th>\n",
       "      <th>puntaje_global</th>\n",
       "      <th>nse_estudiante</th>\n",
       "      <th>nse_colegio</th>\n",
       "      <th>educacion_padres</th>\n",
       "      <th>perfil_lector</th>\n",
       "      <th>actividad_padres</th>\n",
       "    </tr>\n",
       "  </thead>\n",
       "  <tbody>\n",
       "    <tr>\n",
       "      <th>250324</th>\n",
       "      <td>Colombia</td>\n",
       "      <td>Pacífica</td>\n",
       "      <td>No</td>\n",
       "      <td>18</td>\n",
       "      <td>0</td>\n",
       "      <td>Hogar tradicional</td>\n",
       "      <td>3.00</td>\n",
       "      <td>1.00</td>\n",
       "      <td>Poco</td>\n",
       "      <td>0</td>\n",
       "      <td>1</td>\n",
       "      <td>0</td>\n",
       "      <td>1</td>\n",
       "      <td>1</td>\n",
       "      <td>0</td>\n",
       "      <td>0</td>\n",
       "      <td>0</td>\n",
       "      <td>None</td>\n",
       "      <td>No lee</td>\n",
       "      <td>Insuficiente</td>\n",
       "      <td>Óptimo</td>\n",
       "      <td>Aceptable</td>\n",
       "      <td>Bachiller</td>\n",
       "      <td>Sin Actividad Remunerada</td>\n",
       "      <td>Bachiller</td>\n",
       "      <td>Trabajadores Operativos</td>\n",
       "      <td>Trabajo Ocasional</td>\n",
       "      <td>Mixto</td>\n",
       "      <td>No Oficial</td>\n",
       "      <td>Urbano</td>\n",
       "      <td>Tradicional</td>\n",
       "      <td>195</td>\n",
       "      <td>2.00</td>\n",
       "      <td>2.00</td>\n",
       "      <td>Bachillerato Completo</td>\n",
       "      <td>Buen Apoyo, Poco Habito</td>\n",
       "      <td>Trabajadores Operativos</td>\n",
       "    </tr>\n",
       "    <tr>\n",
       "      <th>299472</th>\n",
       "      <td>Colombia</td>\n",
       "      <td>Pacífica</td>\n",
       "      <td>No</td>\n",
       "      <td>18</td>\n",
       "      <td>0</td>\n",
       "      <td>Más de 1 hogar</td>\n",
       "      <td>4.00</td>\n",
       "      <td>NaN</td>\n",
       "      <td>Poco</td>\n",
       "      <td>1</td>\n",
       "      <td>1</td>\n",
       "      <td>1</td>\n",
       "      <td>1</td>\n",
       "      <td>1</td>\n",
       "      <td>0</td>\n",
       "      <td>1</td>\n",
       "      <td>1</td>\n",
       "      <td>11-25</td>\n",
       "      <td>0-30 min</td>\n",
       "      <td>Aceptable</td>\n",
       "      <td>Insuficiente</td>\n",
       "      <td>Insuficiente</td>\n",
       "      <td>Primaria</td>\n",
       "      <td>Trabajadores Operativos</td>\n",
       "      <td>Primaria Inc</td>\n",
       "      <td>Trabajadores Operativos</td>\n",
       "      <td>Tiempo Parcial Reducido</td>\n",
       "      <td>Mixto</td>\n",
       "      <td>Oficial</td>\n",
       "      <td>Urbano</td>\n",
       "      <td>Tradicional</td>\n",
       "      <td>173</td>\n",
       "      <td>2.00</td>\n",
       "      <td>2.00</td>\n",
       "      <td>Educación Primaria</td>\n",
       "      <td>Poco Apoyo, Poco Habito</td>\n",
       "      <td>Trabajadores Operativos</td>\n",
       "    </tr>\n",
       "    <tr>\n",
       "      <th>134840</th>\n",
       "      <td>Colombia</td>\n",
       "      <td>Caribe</td>\n",
       "      <td>No</td>\n",
       "      <td>16</td>\n",
       "      <td>0</td>\n",
       "      <td>Más de 1 hogar</td>\n",
       "      <td>6.00</td>\n",
       "      <td>5.00</td>\n",
       "      <td>Promedio</td>\n",
       "      <td>1</td>\n",
       "      <td>1</td>\n",
       "      <td>1</td>\n",
       "      <td>1</td>\n",
       "      <td>0</td>\n",
       "      <td>0</td>\n",
       "      <td>0</td>\n",
       "      <td>1</td>\n",
       "      <td>26-100</td>\n",
       "      <td>0-30 min</td>\n",
       "      <td>Óptimo</td>\n",
       "      <td>Óptimo</td>\n",
       "      <td>Insuficiente</td>\n",
       "      <td>Profesional</td>\n",
       "      <td>Profesionales</td>\n",
       "      <td>Postgrado</td>\n",
       "      <td>Trabajadores Operativos</td>\n",
       "      <td>Tiempo Parcial Reducido</td>\n",
       "      <td>Mixto</td>\n",
       "      <td>No Oficial</td>\n",
       "      <td>Urbano</td>\n",
       "      <td>Tradicional</td>\n",
       "      <td>275</td>\n",
       "      <td>3.00</td>\n",
       "      <td>4.00</td>\n",
       "      <td>Educación Superior</td>\n",
       "      <td>Buen Apoyo, Poco Habito</td>\n",
       "      <td>Profesionales/Directivos</td>\n",
       "    </tr>\n",
       "    <tr>\n",
       "      <th>452616</th>\n",
       "      <td>Colombia</td>\n",
       "      <td>Andina</td>\n",
       "      <td>No</td>\n",
       "      <td>18</td>\n",
       "      <td>0</td>\n",
       "      <td>Hogar grande</td>\n",
       "      <td>5.00</td>\n",
       "      <td>3.00</td>\n",
       "      <td>Promedio</td>\n",
       "      <td>1</td>\n",
       "      <td>1</td>\n",
       "      <td>1</td>\n",
       "      <td>1</td>\n",
       "      <td>1</td>\n",
       "      <td>0</td>\n",
       "      <td>1</td>\n",
       "      <td>1</td>\n",
       "      <td>0-10</td>\n",
       "      <td>30-60 min</td>\n",
       "      <td>Óptimo</td>\n",
       "      <td>Óptimo</td>\n",
       "      <td>Aceptable</td>\n",
       "      <td>Bachiller</td>\n",
       "      <td>Trabajadores Operativos</td>\n",
       "      <td>Bachiller</td>\n",
       "      <td>Trabajadores Operativos</td>\n",
       "      <td>No Trabaja</td>\n",
       "      <td>Mixto</td>\n",
       "      <td>Oficial</td>\n",
       "      <td>Urbano</td>\n",
       "      <td>Tradicional</td>\n",
       "      <td>222</td>\n",
       "      <td>3.00</td>\n",
       "      <td>3.00</td>\n",
       "      <td>Bachillerato Completo</td>\n",
       "      <td>Poco Apoyo, Buen Habito</td>\n",
       "      <td>Trabajadores Operativos</td>\n",
       "    </tr>\n",
       "    <tr>\n",
       "      <th>182238</th>\n",
       "      <td>Colombia</td>\n",
       "      <td>Andina</td>\n",
       "      <td>No</td>\n",
       "      <td>16</td>\n",
       "      <td>0</td>\n",
       "      <td>Hogar tradicional</td>\n",
       "      <td>4.00</td>\n",
       "      <td>3.00</td>\n",
       "      <td>Mucho</td>\n",
       "      <td>0</td>\n",
       "      <td>1</td>\n",
       "      <td>0</td>\n",
       "      <td>1</td>\n",
       "      <td>1</td>\n",
       "      <td>1</td>\n",
       "      <td>1</td>\n",
       "      <td>0</td>\n",
       "      <td>0-10</td>\n",
       "      <td>0-30 min</td>\n",
       "      <td>Óptimo</td>\n",
       "      <td>Óptimo</td>\n",
       "      <td>Óptimo</td>\n",
       "      <td>Bachiller</td>\n",
       "      <td>Sin Actividad Remunerada</td>\n",
       "      <td>Bachiller</td>\n",
       "      <td>Trabajador Independiente</td>\n",
       "      <td>No Trabaja</td>\n",
       "      <td>Mixto</td>\n",
       "      <td>Oficial</td>\n",
       "      <td>Urbano</td>\n",
       "      <td>Unica</td>\n",
       "      <td>209</td>\n",
       "      <td>3.00</td>\n",
       "      <td>2.00</td>\n",
       "      <td>Bachillerato Completo</td>\n",
       "      <td>Poco Apoyo, Poco Habito</td>\n",
       "      <td>Empresarios/Independientes</td>\n",
       "    </tr>\n",
       "  </tbody>\n",
       "</table>\n",
       "</div>"
      ],
      "text/plain": [
       "       nacionalidad    region etnia_estudiante  edad  presento_fuera_edad  \\\n",
       "250324     Colombia  Pacífica               No    18                    0   \n",
       "299472     Colombia  Pacífica               No    18                    0   \n",
       "134840     Colombia    Caribe               No    16                    0   \n",
       "452616     Colombia    Andina               No    18                    0   \n",
       "182238     Colombia    Andina               No    16                    0   \n",
       "\n",
       "        num_personas_casa  num_cuartos_casa  estrato_casa tiempo_internet  \\\n",
       "250324  Hogar tradicional              3.00          1.00            Poco   \n",
       "299472     Más de 1 hogar              4.00           NaN            Poco   \n",
       "134840     Más de 1 hogar              6.00          5.00        Promedio   \n",
       "452616       Hogar grande              5.00          3.00        Promedio   \n",
       "182238  Hogar tradicional              4.00          3.00           Mucho   \n",
       "\n",
       "        internet  tv  computador  lavadora  microndas  carro  moto  consola  \\\n",
       "250324         0   1           0         1          1      0     0        0   \n",
       "299472         1   1           1         1          1      0     1        1   \n",
       "134840         1   1           1         1          0      0     0        1   \n",
       "452616         1   1           1         1          1      0     1        1   \n",
       "182238         0   1           0         1          1      1     1        0   \n",
       "\n",
       "       num_libros tiempo_lectura freq_leche_derivados  \\\n",
       "250324       None         No lee         Insuficiente   \n",
       "299472      11-25       0-30 min            Aceptable   \n",
       "134840     26-100       0-30 min               Óptimo   \n",
       "452616       0-10      30-60 min               Óptimo   \n",
       "182238       0-10       0-30 min               Óptimo   \n",
       "\n",
       "       freq_carne_pescado_similares freq_cereales_frutos_legumbres  \\\n",
       "250324                       Óptimo                      Aceptable   \n",
       "299472                 Insuficiente                   Insuficiente   \n",
       "134840                       Óptimo                   Insuficiente   \n",
       "452616                       Óptimo                      Aceptable   \n",
       "182238                       Óptimo                         Óptimo   \n",
       "\n",
       "       nivel_edu_padre           actividad_padre nivel_edu_madre  \\\n",
       "250324       Bachiller  Sin Actividad Remunerada       Bachiller   \n",
       "299472        Primaria   Trabajadores Operativos    Primaria Inc   \n",
       "134840     Profesional             Profesionales       Postgrado   \n",
       "452616       Bachiller   Trabajadores Operativos       Bachiller   \n",
       "182238       Bachiller  Sin Actividad Remunerada       Bachiller   \n",
       "\n",
       "                 actividad_madre    horas_trabajo_semanal colegio_genero  \\\n",
       "250324   Trabajadores Operativos        Trabajo Ocasional          Mixto   \n",
       "299472   Trabajadores Operativos  Tiempo Parcial Reducido          Mixto   \n",
       "134840   Trabajadores Operativos  Tiempo Parcial Reducido          Mixto   \n",
       "452616   Trabajadores Operativos               No Trabaja          Mixto   \n",
       "182238  Trabajador Independiente               No Trabaja          Mixto   \n",
       "\n",
       "       colegio_publico colegio_area colegio_jornada  puntaje_global  \\\n",
       "250324      No Oficial       Urbano     Tradicional             195   \n",
       "299472         Oficial       Urbano     Tradicional             173   \n",
       "134840      No Oficial       Urbano     Tradicional             275   \n",
       "452616         Oficial       Urbano     Tradicional             222   \n",
       "182238         Oficial       Urbano           Unica             209   \n",
       "\n",
       "        nse_estudiante  nse_colegio       educacion_padres  \\\n",
       "250324            2.00         2.00  Bachillerato Completo   \n",
       "299472            2.00         2.00     Educación Primaria   \n",
       "134840            3.00         4.00     Educación Superior   \n",
       "452616            3.00         3.00  Bachillerato Completo   \n",
       "182238            3.00         2.00  Bachillerato Completo   \n",
       "\n",
       "                  perfil_lector            actividad_padres  \n",
       "250324  Buen Apoyo, Poco Habito     Trabajadores Operativos  \n",
       "299472  Poco Apoyo, Poco Habito     Trabajadores Operativos  \n",
       "134840  Buen Apoyo, Poco Habito    Profesionales/Directivos  \n",
       "452616  Poco Apoyo, Buen Habito     Trabajadores Operativos  \n",
       "182238  Poco Apoyo, Poco Habito  Empresarios/Independientes  "
      ]
     },
     "execution_count": 2,
     "metadata": {},
     "output_type": "execute_result"
    }
   ],
   "source": [
    "icfes = pd.read_parquet(\"icfes_analizado.parquet\", engine=\"pyarrow\")\n",
    "icfes.sample(5)"
   ]
  },
  {
   "cell_type": "code",
   "execution_count": 3,
   "id": "2995d680",
   "metadata": {},
   "outputs": [
    {
     "data": {
      "text/plain": [
       "(506056, 37)"
      ]
     },
     "execution_count": 3,
     "metadata": {},
     "output_type": "execute_result"
    }
   ],
   "source": [
    "icfes.shape"
   ]
  },
  {
   "cell_type": "code",
   "execution_count": 4,
   "id": "7ac6d87d",
   "metadata": {},
   "outputs": [],
   "source": [
    "icfes = icfes.dropna()"
   ]
  },
  {
   "cell_type": "markdown",
   "id": "13644781",
   "metadata": {},
   "source": [
    "## 1. DIVISIÓN REPRESENTATIVA"
   ]
  },
  {
   "cell_type": "code",
   "execution_count": 5,
   "id": "404cf7b7",
   "metadata": {},
   "outputs": [],
   "source": [
    "from sklearn.model_selection import train_test_split\n",
    "\n",
    "# Suponiendo que 'puntaje_global' es la variable objetivo (Y)\n",
    "X = icfes.drop(columns=['puntaje_global'])  # Características\n",
    "y = icfes['puntaje_global']  # Variable objetivo\n",
    "\n",
    "X_train, X_test, y_train, y_test = train_test_split(\n",
    "    X, y, test_size=0.2, random_state=42\n",
    ")"
   ]
  },
  {
   "cell_type": "code",
   "execution_count": 6,
   "id": "5e07ce11",
   "metadata": {},
   "outputs": [
    {
     "data": {
      "text/plain": [
       "(337706, 36)"
      ]
     },
     "execution_count": 6,
     "metadata": {},
     "output_type": "execute_result"
    }
   ],
   "source": [
    "X_train.shape"
   ]
  },
  {
   "cell_type": "code",
   "execution_count": 7,
   "id": "a0812ec8",
   "metadata": {},
   "outputs": [],
   "source": [
    "icfesx = X_train.copy()"
   ]
  },
  {
   "cell_type": "markdown",
   "id": "109b79d7",
   "metadata": {},
   "source": [
    "## 2. VERIFICACIÓN DE LA DISTRIBUCIÓN"
   ]
  },
  {
   "cell_type": "code",
   "execution_count": 8,
   "id": "76f2cc87",
   "metadata": {},
   "outputs": [
    {
     "name": "stdout",
     "output_type": "stream",
     "text": [
      "\n",
      "Train\n",
      "count   337706.00\n",
      "mean       250.34\n",
      "std         50.72\n",
      "min        106.00\n",
      "25%        212.00\n",
      "50%        247.00\n",
      "75%        286.00\n",
      "max        477.00\n",
      "Name: puntaje_global, dtype: float64\n",
      "\n",
      "Test\n",
      "count   84427.00\n",
      "mean      250.62\n",
      "std        50.66\n",
      "min       108.00\n",
      "25%       212.00\n",
      "50%       248.00\n",
      "75%       287.00\n",
      "max       467.00\n",
      "Name: puntaje_global, dtype: float64\n"
     ]
    },
    {
     "data": {
      "image/png": "[encoded data removed]",
      "text/plain": [
       "<Figure size 640x480 with 1 Axes>"
      ]
     },
     "metadata": {},
     "output_type": "display_data"
    }
   ],
   "source": [
    "for split, data in zip(\n",
    "    [\"Train\", \"Test\"],\n",
    "    [y_train, y_test]\n",
    "):\n",
    "    print(f\"\\n{split}\")\n",
    "    print(data.describe())\n",
    "    \n",
    "plt.hist(y_train, bins=30, alpha=0.5, label=\"Train\")\n",
    "plt.hist(y_test, bins=30, alpha=0.5, label=\"Test\")\n",
    "plt.legend()\n",
    "plt.show()\n"
   ]
  },
  {
   "cell_type": "markdown",
   "id": "a573b726",
   "metadata": {},
   "source": [
    "## 4. VERIFICACIÓN DE VALORES EXTREMOS"
   ]
  },
  {
   "cell_type": "code",
   "execution_count": 9,
   "id": "f917dc73",
   "metadata": {},
   "outputs": [
    {
     "name": "stdout",
     "output_type": "stream",
     "text": [
      "Valores extremos totales: 9099\n",
      "Distribución en train/test:\n",
      "3775 911\n"
     ]
    }
   ],
   "source": [
    "q_low, q_high = y.quantile([0.01, 0.99])  # percentiles extremos\n",
    "extremos = icfes[(y <= q_low) | (y >= q_high)]\n",
    "\n",
    "print(\"Valores extremos totales:\", len(extremos))\n",
    "print(\"Distribución en train/test:\")\n",
    "print((y_train <= q_low).sum(), (y_test <= q_low).sum())"
   ]
  },
  {
   "cell_type": "markdown",
   "id": "bd14fc00",
   "metadata": {},
   "source": [
    "## 5. VALIDACIÓN DE REPRESENTATIVIDAD DE VARIABLES PREDECITIVAS"
   ]
  },
  {
   "cell_type": "code",
   "execution_count": 10,
   "id": "678e0d81",
   "metadata": {},
   "outputs": [
    {
     "name": "stdout",
     "output_type": "stream",
     "text": [
      "\n",
      "--- Distribución de colegio_publico ---\n",
      "\n",
      "Train:\n",
      "colegio_publico\n",
      "No Oficial   0.24\n",
      "Oficial      0.76\n",
      "Name: proportion, dtype: float64\n",
      "\n",
      "Test:\n",
      "colegio_publico\n",
      "No Oficial   0.24\n",
      "Oficial      0.76\n",
      "Name: proportion, dtype: float64\n",
      "\n",
      "--- Distribución de colegio_jornada ---\n",
      "\n",
      "Train:\n",
      "colegio_jornada\n",
      "Completa      0.18\n",
      "Tradicional   0.58\n",
      "Unica         0.13\n",
      "Validación    0.12\n",
      "Name: proportion, dtype: float64\n",
      "\n",
      "Test:\n",
      "colegio_jornada\n",
      "Completa      0.18\n",
      "Tradicional   0.58\n",
      "Unica         0.13\n",
      "Validación    0.11\n",
      "Name: proportion, dtype: float64\n",
      "\n",
      "--- Distribución de colegio_genero ---\n",
      "\n",
      "Train:\n",
      "colegio_genero\n",
      "Femenino    0.03\n",
      "Masculino   0.01\n",
      "Mixto       0.96\n",
      "Name: proportion, dtype: float64\n",
      "\n",
      "Test:\n",
      "colegio_genero\n",
      "Femenino    0.03\n",
      "Masculino   0.01\n",
      "Mixto       0.97\n",
      "Name: proportion, dtype: float64\n",
      "\n",
      "--- Distribución de colegio_area ---\n",
      "\n",
      "Train:\n",
      "colegio_area\n",
      "Rural    0.15\n",
      "Urbano   0.85\n",
      "Name: proportion, dtype: float64\n",
      "\n",
      "Test:\n",
      "colegio_area\n",
      "Rural    0.15\n",
      "Urbano   0.85\n",
      "Name: proportion, dtype: float64\n"
     ]
    }
   ],
   "source": [
    "cat = ['colegio_publico', 'colegio_jornada', 'colegio_genero', 'colegio_area']\n",
    "\n",
    "for var in cat:\n",
    "    print(f\"\\n--- Distribución de {var} ---\")\n",
    "    for split, data in zip([\"Train\", \"Test\"], [X_train, X_test]):\n",
    "        dist = data[var].value_counts(normalize=True).sort_index()\n",
    "        print(f\"\\n{split}:\")\n",
    "        print(dist.round(3))"
   ]
  },
  {
   "cell_type": "markdown",
   "id": "384e97a7",
   "metadata": {},
   "source": [
    "## 6. DOCUMENTACIÓN DE LA DIVISIÓN"
   ]
  },
  {
   "cell_type": "code",
   "execution_count": 11,
   "id": "a812c327",
   "metadata": {},
   "outputs": [],
   "source": [
    "import json\n",
    "from sklearn.model_selection import train_test_split\n",
    "\n",
    "RANDOM_SEED = 42  # semilla fija\n",
    "X_train, X_test, y_train, y_test = train_test_split(\n",
    "    X, y, test_size=0.2, random_state=RANDOM_SEED\n",
    "    # SIN stratify para regresión\n",
    ")\n",
    "\n",
    "# Guardar info en JSON (índices + semilla)\n",
    "split_info = {\n",
    "    \"random_seed\": RANDOM_SEED,\n",
    "    \"train_indices\": list(X_train.index),\n",
    "    \"test_indices\": list(X_test.index)\n",
    "}\n",
    "\n",
    "with open(\"split_documentation.json\", \"w\") as f:\n",
    "    json.dump(split_info, f)\n"
   ]
  },
  {
   "cell_type": "code",
   "execution_count": 12,
   "id": "010149a1",
   "metadata": {},
   "outputs": [],
   "source": [
    "x_train = X_train.copy()"
   ]
  },
  {
   "cell_type": "markdown",
   "id": "880a8a8e",
   "metadata": {},
   "source": [
    "## 7. GUARDAR LOS ARCHIVOS DE ENTRENAMIENTO Y PRUEBA"
   ]
  },
  {
   "cell_type": "code",
   "execution_count": 13,
   "id": "3cb63cc3",
   "metadata": {},
   "outputs": [
    {
     "name": "stdout",
     "output_type": "stream",
     "text": [
      "✅ Splits guardados en Parquet\n"
     ]
    }
   ],
   "source": [
    "# Guardar en Parquet\n",
    "X_train.to_parquet(\"X_train.parquet\", index=False)\n",
    "X_test.to_parquet(\"X_test.parquet\", index=False)\n",
    "\n",
    "# Como y_train y y_test son Series, las pasamos a DataFrame para mantener el nombre de la columna\n",
    "y_train.to_frame(name=\"puntaje_global\").to_parquet(\"y_train.parquet\", index=False)\n",
    "y_test.to_frame(name=\"puntaje_global\").to_parquet(\"y_test.parquet\", index=False)\n",
    "\n",
    "print(\"✅ Splits guardados en Parquet\")"
   ]
  }
 ],
 "metadata": {
  "kernelspec": {
   "display_name": "Python 3",
   "language": "python",
   "name": "python3"
  },
  "language_info": {
   "codemirror_mode": {
    "name": "ipython",
    "version": 3
   },
   "file_extension": ".py",
   "mimetype": "text/x-python",
   "name": "python",
   "nbconvert_exporter": "python",
   "pygments_lexer": "ipython3",
   "version": "3.13.6"
  }
 },
 "nbformat": 4,
 "nbformat_minor": 5
}
